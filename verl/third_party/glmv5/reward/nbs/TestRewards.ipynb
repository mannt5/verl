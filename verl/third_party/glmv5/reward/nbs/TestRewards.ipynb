{
 "cells": [
  {
   "cell_type": "code",
   "execution_count": 1,
   "metadata": {},
   "outputs": [],
   "source": [
    "import re"
   ]
  },
  {
   "cell_type": "code",
   "execution_count": 2,
   "metadata": {},
   "outputs": [],
   "source": [
    "def validate_tags(response):\n",
    "    # Ensure at least one type of tag exists\n",
    "    if '<fact>' not in response and '<commentary>' not in response:\n",
    "        return False\n",
    "    \n",
    "    # Extract all tags in order of appearance\n",
    "    tag_pattern = re.compile(r'<fact>|</fact>|<commentary>|</commentary>')\n",
    "    tags = tag_pattern.findall(response)\n",
    "    \n",
    "    # If no tags found after regex search, validation fails\n",
    "    if not tags:\n",
    "        return False\n",
    "    \n",
    "    # Use stack to check proper nesting and pairing\n",
    "    stack = []\n",
    "    \n",
    "    for tag in tags:\n",
    "        if tag == '<fact>':\n",
    "            # Can't have nested facts or facts inside commentary\n",
    "            if stack and (stack[-1] == '<fact>' or stack[-1] == '<commentary>'):\n",
    "                return False\n",
    "            stack.append(tag)\n",
    "        \n",
    "        elif tag == '</fact>':\n",
    "            # Closing tag must match most recent opening tag\n",
    "            if not stack or stack[-1] != '<fact>':\n",
    "                return False\n",
    "            stack.pop()\n",
    "        \n",
    "        elif tag == '<commentary>':\n",
    "            # Can't have nested commentary or commentary inside facts\n",
    "            if stack and (stack[-1] == '<commentary>' or stack[-1] == '<fact>'):\n",
    "                return False\n",
    "            stack.append(tag)\n",
    "        \n",
    "        elif tag == '</commentary>':\n",
    "            # Closing tag must match most recent opening tag\n",
    "            if not stack or stack[-1] != '<commentary>':\n",
    "                return False\n",
    "            stack.pop()\n",
    "    \n",
    "    # Stack should be empty if all tags are properly paired\n",
    "    return len(stack) == 0"
   ]
  },
  {
   "cell_type": "code",
   "execution_count": 3,
   "metadata": {},
   "outputs": [
    {
     "name": "stdout",
     "output_type": "stream",
     "text": [
      "Test 1: PASS\n",
      "Test 2: PASS\n",
      "Test 3: PASS\n",
      "Test 4: PASS\n",
      "Test 5: PASS\n",
      "Test 6: PASS\n",
      "Test 7: PASS\n",
      "Test 8: PASS\n",
      "Test 9: PASS\n",
      "Test 10: PASS\n",
      "Test 11: PASS\n",
      "Test 12: PASS\n",
      "Test 13: PASS\n",
      "Test 14: PASS\n",
      "Test 15: PASS\n",
      "Test 16: PASS\n",
      "Test 17: PASS\n",
      "Test 18: PASS\n",
      "Test 19: PASS\n",
      "Test 20: PASS\n",
      "Test 21: PASS\n",
      "Test 22: PASS\n",
      "Test 23: PASS\n",
      "Test 24: PASS\n",
      "All tests completed.\n"
     ]
    }
   ],
   "source": [
    "def test_validate_tags():\n",
    "    # Test cases with expected results\n",
    "    test_cases = [\n",
    "        # Valid cases\n",
    "        (\"<fact>This is a fact.</fact>\", True),\n",
    "        (\"<commentary>This is a commentary.</commentary>\", True),\n",
    "        (\"<fact>Fact 1</fact><commentary>Commentary 1</commentary>\", True),\n",
    "        (\"<commentary>Commentary 1</commentary><fact>Fact 1</fact>\", True),\n",
    "        # TODO: Check if this is something we want to allow (it was part of the original format)\n",
    "        (\"<fact>Fact 1</fact>Some text<commentary>Commentary 1</commentary>\", True),\n",
    "        (\"<fact>Fact 1</fact><fact>Fact 2</fact>\", True),\n",
    "        (\"<commentary>Commentary 1</commentary><commentary>Commentary 2</commentary>\", True),\n",
    "        \n",
    "        # Invalid cases - missing tags\n",
    "        (\"No tags at all\", False),\n",
    "        \n",
    "        # Invalid cases - unbalanced tags\n",
    "        (\"<fact>Unclosed fact\", False),\n",
    "        (\"<fact>Fact 1</fact><fact>Unclosed fact\", False),\n",
    "        (\"</fact>Closing without opening\", False),\n",
    "        (\"<commentary>Unclosed commentary\", False),\n",
    "        (\"</commentary>Closing without opening\", False),\n",
    "        \n",
    "        # Invalid cases - overlapping tags\n",
    "        (\"<fact><commentary>Overlapping</fact></commentary>\", False),\n",
    "        (\"<commentary><fact>Overlapping</commentary></fact>\", False),\n",
    "        \n",
    "        # Invalid cases - nested tags\n",
    "        (\"<fact>Outer <fact>Inner</fact> fact</fact>\", False),\n",
    "        (\"<commentary>Outer <commentary>Inner</commentary> commentary</commentary>\", False),\n",
    "        (\"<fact>Fact with <commentary>nested commentary</commentary></fact>\", False),\n",
    "        (\"<commentary>Commentary with <fact>nested fact</fact></commentary>\", False),\n",
    "        \n",
    "        # Complex cases\n",
    "        (\"<fact>Fact 1</fact><commentary>Commentary 1</commentary><fact>Fact 2</fact>\", True),\n",
    "        (\"<fact>F1</fact>Text<commentary>C1</commentary>Text<fact>F2</fact>Text<commentary>C2</commentary>\", True),\n",
    "        (\"Text<fact>F1</fact>Text<commentary>C1</commentary>Text\", True),\n",
    "        (\"<fact>F1</fact></commentary>Unbalanced closing tag\", False),\n",
    "        (\"<fact>F1</commentary>Wrong closing tag\", False),\n",
    "    ]\n",
    "    \n",
    "    # Run tests\n",
    "    for i, (test_string, expected) in enumerate(test_cases, 1):\n",
    "        result = validate_tags(test_string)\n",
    "        if result == expected:\n",
    "            print(f\"Test {i}: PASS\")\n",
    "        else:\n",
    "            print(f\"Test {i}: FAIL - Expected {expected}, got {result}\")\n",
    "            print(f\"  Input: {test_string}\")\n",
    "    \n",
    "    print(\"All tests completed.\")\n",
    "\n",
    "# Run the test function\n",
    "test_validate_tags()"
   ]
  },
  {
   "cell_type": "code",
   "execution_count": 1,
   "metadata": {},
   "outputs": [],
   "source": [
    "log_file_path = \"/data/synthetic_data/exp/logs/orch_v2_vllm_serve_1410092.log\"\n"
   ]
  },
  {
   "cell_type": "code",
   "execution_count": null,
   "metadata": {},
   "outputs": [],
   "source": []
  },
  {
   "cell_type": "code",
   "execution_count": 8,
   "metadata": {},
   "outputs": [
    {
     "name": "stderr",
     "output_type": "stream",
     "text": [
      "\u001b[32m2025-05-07 20:40:50.261\u001b[0m | \u001b[1mINFO    \u001b[0m | \u001b[36m__main__\u001b[0m:\u001b[36m<module>\u001b[0m:\u001b[36m6\u001b[0m - \u001b[1mvLLM version is 0.8.3\u001b[0m\n"
     ]
    }
   ],
   "source": [
    "from loguru import logger\n",
    "import re\n",
    "with open(log_file_path, \"r\", encoding=\"utf-8\") as f:\n",
    "    log_content = f.read()\n",
    "    if \"0.8.3\" in \"0.8.3\":\n",
    "        logger.info(\"vLLM version is 0.8.3\")\n",
    "        if \"Application startup complete\" in log_content:\n",
    "            match = re.search(\n",
    "                r\"Starting server on port:: (\\d+)\", log_content\n",
    "            )\n",
    "            assert match is not None, \"No match found for vLLM version 0.8.3\"\n",
    "            x =  match.group(1) if match else None\n",
    "\n",
    "        elif \"Uvicorn running on\" in log_content:\n",
    "            match = re.search(\n",
    "                r\"Uvicorn running on http://0\\.0\\.0\\.0:(\\d+)\", log_content\n",
    "            )\n",
    "            assert match is not None, \"No match found for vLLM version 0.8.3\"\n",
    "            x =  match.group(1) if match else None\n",
    "        else:\n",
    "            x = None"
   ]
  }
 ],
 "metadata": {
  "kernelspec": {
   "display_name": "wbr-dev",
   "language": "python",
   "name": "python3"
  },
  "language_info": {
   "codemirror_mode": {
    "name": "ipython",
    "version": 3
   },
   "file_extension": ".py",
   "mimetype": "text/x-python",
   "name": "python",
   "nbconvert_exporter": "python",
   "pygments_lexer": "ipython3",
   "version": "3.10.15"
  }
 },
 "nbformat": 4,
 "nbformat_minor": 2
}
