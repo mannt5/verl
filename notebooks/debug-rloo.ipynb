{
 "cells": [
  {
   "cell_type": "code",
   "execution_count": 1,
   "id": "57f5c5cf-d013-490b-b345-d7ecd0473230",
   "metadata": {},
   "outputs": [],
   "source": [
    "%load_ext autoreload\n",
    "%autoreload 2"
   ]
  },
  {
   "cell_type": "code",
   "execution_count": 4,
   "id": "fddd3ec1-9f36-4eef-99c9-b612b4bc928d",
   "metadata": {},
   "outputs": [],
   "source": [
    "import time\n",
    "\n",
    "from verl.utils.profiler.performance import marked_timer\n"
   ]
  },
  {
   "cell_type": "code",
   "execution_count": null,
   "id": "b4401341-6f74-4fa8-a503-ef36621869c1",
   "metadata": {},
   "outputs": [],
   "source": []
  },
  {
   "cell_type": "code",
   "execution_count": 2,
   "id": "b8d74703-329b-441b-939b-4761c2ef195b",
   "metadata": {},
   "outputs": [],
   "source": [
    "timing_raw = {}"
   ]
  },
  {
   "cell_type": "code",
   "execution_count": 5,
   "id": "20b84a8f-d995-4af9-98d7-f60a12a73d09",
   "metadata": {},
   "outputs": [],
   "source": [
    "with marked_timer(\"step\", timing_raw):\n",
    "    time.sleep(1)"
   ]
  },
  {
   "cell_type": "code",
   "execution_count": 6,
   "id": "a54cf808-6ab7-47ba-a9b5-d86f5d669a9e",
   "metadata": {},
   "outputs": [
    {
     "data": {
      "text/plain": [
       "{'step': 1.0001179850660264}"
      ]
     },
     "execution_count": 6,
     "metadata": {},
     "output_type": "execute_result"
    }
   ],
   "source": [
    "timing_raw"
   ]
  },
  {
   "cell_type": "code",
   "execution_count": null,
   "id": "aefb6d07-f0ff-41af-af24-1734fe450437",
   "metadata": {},
   "outputs": [],
   "source": []
  }
 ],
 "metadata": {
  "kernelspec": {
   "display_name": "Python 3 (ipykernel)",
   "language": "python",
   "name": "python3"
  },
  "language_info": {
   "codemirror_mode": {
    "name": "ipython",
    "version": 3
   },
   "file_extension": ".py",
   "mimetype": "text/x-python",
   "name": "python",
   "nbconvert_exporter": "python",
   "pygments_lexer": "ipython3",
   "version": "3.12.11"
  }
 },
 "nbformat": 4,
 "nbformat_minor": 5
}
