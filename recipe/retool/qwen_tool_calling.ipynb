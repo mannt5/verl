{
 "cells": [
  {
   "cell_type": "markdown",
   "id": "decceccd-b85d-4260-8f23-a5a163c0d6b5",
   "metadata": {
    "tags": []
   },
   "source": [
    "# QWen tool calling demo"
   ]
  },
  {
   "cell_type": "code",
   "execution_count": 1,
   "id": "9cdabfa9-cb6c-4709-92a5-9a4134554921",
   "metadata": {
    "tags": []
   },
   "outputs": [],
   "source": [
    "from pprint import pprint"
   ]
  },
  {
   "cell_type": "code",
   "execution_count": 2,
   "id": "6d8eb34d-a1d5-41f4-8f78-03fd105dd0a9",
   "metadata": {
    "tags": []
   },
   "outputs": [],
   "source": [
    "import json\n",
    "import torch\n",
    "\n",
    "def get_current_temperature(location: str, unit: str = \"celsius\"):\n",
    "    \"\"\"Get current temperature at a location.\n",
    "\n",
    "    Args:\n",
    "        location: The location to get the temperature for, in the format \"City, State, Country\".\n",
    "        unit: The unit to return the temperature in. Defaults to \"celsius\". (choices: [\"celsius\", \"fahrenheit\"])\n",
    "\n",
    "    Returns:\n",
    "        the temperature, the location, and the unit in a dict\n",
    "    \"\"\"\n",
    "    return {\n",
    "        \"temperature\": 26.1,\n",
    "        \"location\": location,\n",
    "        \"unit\": unit,\n",
    "    }\n",
    "\n",
    "\n",
    "def get_temperature_date(location: str, date: str, unit: str = \"celsius\"):\n",
    "    \"\"\"Get temperature at a location and date.\n",
    "\n",
    "    Args:\n",
    "        location: The location to get the temperature for, in the format \"City, State, Country\".\n",
    "        date: The date to get the temperature for, in the format \"Year-Month-Day\".\n",
    "        unit: The unit to return the temperature in. Defaults to \"celsius\". (choices: [\"celsius\", \"fahrenheit\"])\n",
    "\n",
    "    Returns:\n",
    "        the temperature, the location, the date and the unit in a dict\n",
    "    \"\"\"\n",
    "    return {\n",
    "        \"temperature\": 25.9,\n",
    "        \"location\": location,\n",
    "        \"date\": date,\n",
    "        \"unit\": unit,\n",
    "    }\n",
    "\n",
    "\n",
    "def get_function_by_name(name):\n",
    "    if name == \"get_current_temperature\":\n",
    "        return get_current_temperature\n",
    "    if name == \"get_temperature_date\":\n",
    "        return get_temperature_date\n",
    "\n",
    "TOOLS = [\n",
    "    {\n",
    "        \"type\": \"function\",\n",
    "        \"function\": {\n",
    "            \"name\": \"get_current_temperature\",\n",
    "            \"description\": \"Get current temperature at a location.\",\n",
    "            \"parameters\": {\n",
    "                \"type\": \"object\",\n",
    "                \"properties\": {\n",
    "                    \"location\": {\n",
    "                        \"type\": \"string\",\n",
    "                        \"description\": 'The location to get the temperature for, in the format \"City, State, Country\".',\n",
    "                    },\n",
    "                    \"unit\": {\n",
    "                        \"type\": \"string\",\n",
    "                        \"enum\": [\"celsius\", \"fahrenheit\"],\n",
    "                        \"description\": 'The unit to return the temperature in. Defaults to \"celsius\".',\n",
    "                    },\n",
    "                },\n",
    "                \"required\": [\"location\"],\n",
    "            },\n",
    "        },\n",
    "    },\n",
    "    {\n",
    "        \"type\": \"function\",\n",
    "        \"function\": {\n",
    "            \"name\": \"get_temperature_date\",\n",
    "            \"description\": \"Get temperature at a location and date.\",\n",
    "            \"parameters\": {\n",
    "                \"type\": \"object\",\n",
    "                \"properties\": {\n",
    "                    \"location\": {\n",
    "                        \"type\": \"string\",\n",
    "                        \"description\": 'The location to get the temperature for, in the format \"City, State, Country\".',\n",
    "                    },\n",
    "                    \"date\": {\n",
    "                        \"type\": \"string\",\n",
    "                        \"description\": 'The date to get the temperature for, in the format \"Year-Month-Day\".',\n",
    "                    },\n",
    "                    \"unit\": {\n",
    "                        \"type\": \"string\",\n",
    "                        \"enum\": [\"celsius\", \"fahrenheit\"],\n",
    "                        \"description\": 'The unit to return the temperature in. Defaults to \"celsius\".',\n",
    "                    },\n",
    "                },\n",
    "                \"required\": [\"location\", \"date\"],\n",
    "            },\n",
    "        },\n",
    "    },\n",
    "]\n",
    "MESSAGES = [\n",
    "    {\"role\": \"system\", \"content\": \"You are Qwen, created by Alibaba Cloud. You are a helpful assistant.\\n\\nCurrent Date: 2024-09-30\"},\n",
    "    {\"role\": \"user\",  \"content\": \"What's the temperature in San Francisco now? How about tomorrow?\"},\n",
    "]"
   ]
  },
  {
   "cell_type": "markdown",
   "id": "3a6169df-bd73-4811-a239-7d78465e0ec3",
   "metadata": {
    "tags": []
   },
   "source": [
    "## Using huggingface transformer"
   ]
  },
  {
   "cell_type": "code",
   "execution_count": 3,
   "id": "ff2e1670-a3c3-4e67-afa2-2133ee7c3a19",
   "metadata": {
    "tags": []
   },
   "outputs": [
    {
     "name": "stderr",
     "output_type": "stream",
     "text": [
      "Sliding Window Attention is enabled but not implemented for `sdpa`; unexpected results may be encountered.\n"
     ]
    },
    {
     "data": {
      "application/vnd.jupyter.widget-view+json": {
       "model_id": "2eb54cc9e7cb4b3e8b598c7bb5fe6b9e",
       "version_major": 2,
       "version_minor": 0
      },
      "text/plain": [
       "Loading checkpoint shards:   0%|          | 0/4 [00:00<?, ?it/s]"
      ]
     },
     "metadata": {},
     "output_type": "display_data"
    }
   ],
   "source": [
    "from transformers import AutoModelForCausalLM, AutoTokenizer\n",
    "\n",
    "model_name_or_path = \"Qwen/Qwen2.5-7B-Instruct\"\n",
    "\n",
    "tokenizer = AutoTokenizer.from_pretrained(model_name_or_path)\n",
    "model = AutoModelForCausalLM.from_pretrained(\n",
    "    model_name_or_path,\n",
    "    torch_dtype=torch.bfloat16,\n",
    ")"
   ]
  },
  {
   "cell_type": "code",
   "execution_count": 4,
   "id": "f8e8446c-e728-4df8-bbab-3d890d00a30e",
   "metadata": {
    "tags": []
   },
   "outputs": [
    {
     "name": "stdout",
     "output_type": "stream",
     "text": [
      "<|im_start|>system\n",
      "You are Qwen, created by Alibaba Cloud. You are a helpful assistant.\n",
      "\n",
      "Current Date: 2024-09-30\n",
      "\n",
      "# Tools\n",
      "\n",
      "You may call one or more functions to assist with the user query.\n",
      "\n",
      "You are provided with function signatures within <tools></tools> XML tags:\n",
      "<tools>\n",
      "{\"type\": \"function\", \"function\": {\"name\": \"get_current_temperature\", \"description\": \"Get current temperature at a location.\", \"parameters\": {\"type\": \"object\", \"properties\": {\"location\": {\"type\": \"string\", \"description\": \"The location to get the temperature for, in the format \\\"City, State, Country\\\".\"}, \"unit\": {\"type\": \"string\", \"enum\": [\"celsius\", \"fahrenheit\"], \"description\": \"The unit to return the temperature in. Defaults to \\\"celsius\\\".\"}}, \"required\": [\"location\"]}}}\n",
      "{\"type\": \"function\", \"function\": {\"name\": \"get_temperature_date\", \"description\": \"Get temperature at a location and date.\", \"parameters\": {\"type\": \"object\", \"properties\": {\"location\": {\"type\": \"string\", \"description\": \"The location to get the temperature for, in the format \\\"City, State, Country\\\".\"}, \"date\": {\"type\": \"string\", \"description\": \"The date to get the temperature for, in the format \\\"Year-Month-Day\\\".\"}, \"unit\": {\"type\": \"string\", \"enum\": [\"celsius\", \"fahrenheit\"], \"description\": \"The unit to return the temperature in. Defaults to \\\"celsius\\\".\"}}, \"required\": [\"location\", \"date\"]}}}\n",
      "</tools>\n",
      "\n",
      "For each function call, return a json object with function name and arguments within <tool_call></tool_call> XML tags:\n",
      "<tool_call>\n",
      "{\"name\": <function-name>, \"arguments\": <args-json-object>}\n",
      "</tool_call><|im_end|>\n",
      "<|im_start|>user\n",
      "What's the temperature in San Francisco now? How about tomorrow?<|im_end|>\n",
      "<|im_start|>assistant\n",
      "\n"
     ]
    }
   ],
   "source": [
    "tools = TOOLS\n",
    "messages = MESSAGES[:]\n",
    "\n",
    "text = tokenizer.apply_chat_template(messages, tools=tools, add_generation_prompt=True, tokenize=False)\n",
    "\n",
    "print(text)"
   ]
  },
  {
   "cell_type": "code",
   "execution_count": 5,
   "id": "59287442-3c3c-4504-b68a-8e1669cd635c",
   "metadata": {
    "tags": []
   },
   "outputs": [
    {
     "name": "stdout",
     "output_type": "stream",
     "text": [
      "{%- if tools %}\n",
      "    {{- '<|im_start|>system\\n' }}\n",
      "    {%- if messages[0]['role'] == 'system' %}\n",
      "        {{- messages[0]['content'] }}\n",
      "    {%- else %}\n",
      "        {{- 'You are Qwen, created by Alibaba Cloud. You are a helpful assistant.' }}\n",
      "    {%- endif %}\n",
      "    {{- \"\\n\\n# Tools\\n\\nYou may call one or more functions to assist with the user query.\\n\\nYou are provided with function signatures within <tools></tools> XML tags:\\n<tools>\" }}\n",
      "    {%- for tool in tools %}\n",
      "        {{- \"\\n\" }}\n",
      "        {{- tool | tojson }}\n",
      "    {%- endfor %}\n",
      "    {{- \"\\n</tools>\\n\\nFor each function call, return a json object with function name and arguments within <tool_call></tool_call> XML tags:\\n<tool_call>\\n{\\\"name\\\": <function-name>, \\\"arguments\\\": <args-json-object>}\\n</tool_call><|im_end|>\\n\" }}\n",
      "{%- else %}\n",
      "    {%- if messages[0]['role'] == 'system' %}\n",
      "        {{- '<|im_start|>system\\n' + messages[0]['content'] + '<|im_end|>\\n' }}\n",
      "    {%- else %}\n",
      "        {{- '<|im_start|>system\\nYou are Qwen, created by Alibaba Cloud. You are a helpful assistant.<|im_end|>\\n' }}\n",
      "    {%- endif %}\n",
      "{%- endif %}\n",
      "{%- for message in messages %}\n",
      "    {%- if (message.role == \"user\") or (message.role == \"system\" and not loop.first) or (message.role == \"assistant\" and not message.tool_calls) %}\n",
      "        {{- '<|im_start|>' + message.role + '\\n' + message.content + '<|im_end|>' + '\\n' }}\n",
      "    {%- elif message.role == \"assistant\" %}\n",
      "        {{- '<|im_start|>' + message.role }}\n",
      "        {%- if message.content %}\n",
      "            {{- '\\n' + message.content }}\n",
      "        {%- endif %}\n",
      "        {%- for tool_call in message.tool_calls %}\n",
      "            {%- if tool_call.function is defined %}\n",
      "                {%- set tool_call = tool_call.function %}\n",
      "            {%- endif %}\n",
      "            {{- '\\n<tool_call>\\n{\"name\": \"' }}\n",
      "            {{- tool_call.name }}\n",
      "            {{- '\", \"arguments\": ' }}\n",
      "            {{- tool_call.arguments | tojson }}\n",
      "            {{- '}\\n</tool_call>' }}\n",
      "        {%- endfor %}\n",
      "        {{- '<|im_end|>\\n' }}\n",
      "    {%- elif message.role == \"tool\" %}\n",
      "        {%- if (loop.index0 == 0) or (messages[loop.index0 - 1].role != \"tool\") %}\n",
      "            {{- '<|im_start|>user' }}\n",
      "        {%- endif %}\n",
      "        {{- '\\n<tool_response>\\n' }}\n",
      "        {{- message.content }}\n",
      "        {{- '\\n</tool_response>' }}\n",
      "        {%- if loop.last or (messages[loop.index0 + 1].role != \"tool\") %}\n",
      "            {{- '<|im_end|>\\n' }}\n",
      "        {%- endif %}\n",
      "    {%- endif %}\n",
      "{%- endfor %}\n",
      "{%- if add_generation_prompt %}\n",
      "    {{- '<|im_start|>assistant\\n' }}\n",
      "{%- endif %}\n",
      "\n"
     ]
    }
   ],
   "source": [
    "print(tokenizer.chat_template)"
   ]
  },
  {
   "cell_type": "code",
   "execution_count": 6,
   "id": "7bf21859-1ecc-483a-9111-dfb0d861db60",
   "metadata": {
    "tags": []
   },
   "outputs": [],
   "source": [
    "inputs = tokenizer(text, return_tensors=\"pt\").to(model.device)\n",
    "outputs = model.generate(**inputs, max_new_tokens=512)\n",
    "output_text = tokenizer.batch_decode(outputs)[0][len(text):]"
   ]
  },
  {
   "cell_type": "code",
   "execution_count": 7,
   "id": "b803dcb5-c8dd-4859-b78a-f57b91d8633f",
   "metadata": {
    "tags": []
   },
   "outputs": [
    {
     "name": "stdout",
     "output_type": "stream",
     "text": [
      "<|im_start|>system\n",
      "You are Qwen, created by Alibaba Cloud. You are a helpful assistant.\n",
      "\n",
      "Current Date: 2024-09-30\n",
      "\n",
      "# Tools\n",
      "\n",
      "You may call one or more functions to assist with the user query.\n",
      "\n",
      "You are provided with function signatures within <tools></tools> XML tags:\n",
      "<tools>\n",
      "{\"type\": \"function\", \"function\": {\"name\": \"get_current_temperature\", \"description\": \"Get current temperature at a location.\", \"parameters\": {\"type\": \"object\", \"properties\": {\"location\": {\"type\": \"string\", \"description\": \"The location to get the temperature for, in the format \\\"City, State, Country\\\".\"}, \"unit\": {\"type\": \"string\", \"enum\": [\"celsius\", \"fahrenheit\"], \"description\": \"The unit to return the temperature in. Defaults to \\\"celsius\\\".\"}}, \"required\": [\"location\"]}}}\n",
      "{\"type\": \"function\", \"function\": {\"name\": \"get_temperature_date\", \"description\": \"Get temperature at a location and date.\", \"parameters\": {\"type\": \"object\", \"properties\": {\"location\": {\"type\": \"string\", \"description\": \"The location to get the temperature for, in the format \\\"City, State, Country\\\".\"}, \"date\": {\"type\": \"string\", \"description\": \"The date to get the temperature for, in the format \\\"Year-Month-Day\\\".\"}, \"unit\": {\"type\": \"string\", \"enum\": [\"celsius\", \"fahrenheit\"], \"description\": \"The unit to return the temperature in. Defaults to \\\"celsius\\\".\"}}, \"required\": [\"location\", \"date\"]}}}\n",
      "</tools>\n",
      "\n",
      "For each function call, return a json object with function name and arguments within <tool_call></tool_call> XML tags:\n",
      "<tool_call>\n",
      "{\"name\": <function-name>, \"arguments\": <args-json-object>}\n",
      "</tool_call><|im_end|>\n",
      "<|im_start|>user\n",
      "What's the temperature in San Francisco now? How about tomorrow?<|im_end|>\n",
      "<|im_start|>assistant\n",
      "<tool_call>\n",
      "{\"name\": \"get_current_temperature\", \"arguments\": {\"location\": \"San Francisco, CA, USA\"}}\n",
      "</tool_call>\n",
      "<tool_call>\n",
      "{\"name\": \"get_temperature_date\", \"arguments\": {\"location\": \"San Francisco, CA, USA\", \"date\": \"2024-10-01\"}}\n",
      "</tool_call><|im_end|>\n"
     ]
    }
   ],
   "source": [
    "print(text + output_text)"
   ]
  },
  {
   "cell_type": "code",
   "execution_count": 8,
   "id": "35802b08-b2e7-4ea4-9ecd-c188bab34a44",
   "metadata": {
    "tags": []
   },
   "outputs": [],
   "source": [
    "import re\n",
    "\n",
    "def try_parse_tool_calls(content: str):\n",
    "    \"\"\"Try parse the tool calls.\"\"\"\n",
    "    tool_calls = []\n",
    "    offset = 0\n",
    "    for i, m in enumerate(re.finditer(r\"<tool_call>\\n(.+)?\\n</tool_call>\", content)):\n",
    "        if i == 0:\n",
    "            offset = m.start()\n",
    "        try:\n",
    "            func = json.loads(m.group(1))\n",
    "            tool_calls.append({\"type\": \"function\", \"function\": func})\n",
    "            if isinstance(func[\"arguments\"], str):\n",
    "                func[\"arguments\"] = json.loads(func[\"arguments\"])\n",
    "        except json.JSONDecodeError as e:\n",
    "            print(f\"Failed to parse tool calls: the content is {m.group(1)} and {e}\")\n",
    "            pass\n",
    "    if tool_calls:\n",
    "        if offset > 0 and content[:offset].strip():\n",
    "            c = content[:offset]\n",
    "        else: \n",
    "            c = \"\"\n",
    "        return {\"role\": \"assistant\", \"content\": c, \"tool_calls\": tool_calls}\n",
    "    return {\"role\": \"assistant\", \"content\": re.sub(r\"<\\|im_end\\|>$\", \"\", content)}"
   ]
  },
  {
   "cell_type": "code",
   "execution_count": 9,
   "id": "ae4d0b9b-0f31-4b1f-b979-df9be7058668",
   "metadata": {
    "tags": []
   },
   "outputs": [],
   "source": [
    "messages.append(try_parse_tool_calls(output_text))"
   ]
  },
  {
   "cell_type": "code",
   "execution_count": 10,
   "id": "383bccf2-98cf-42e8-b145-19dfdd1cd35c",
   "metadata": {
    "tags": []
   },
   "outputs": [
    {
     "name": "stdout",
     "output_type": "stream",
     "text": [
      "[{'role': 'system', 'content': 'You are Qwen, created by Alibaba Cloud. You are a helpful assistant.\\n\\nCurrent Date: 2024-09-30'}, {'role': 'user', 'content': \"What's the temperature in San Francisco now? How about tomorrow?\"}, {'role': 'assistant', 'content': '', 'tool_calls': [{'type': 'function', 'function': {'name': 'get_current_temperature', 'arguments': {'location': 'San Francisco, CA, USA'}}}, {'type': 'function', 'function': {'name': 'get_temperature_date', 'arguments': {'location': 'San Francisco, CA, USA', 'date': '2024-10-01'}}}]}]\n"
     ]
    }
   ],
   "source": [
    "print(messages)"
   ]
  },
  {
   "cell_type": "code",
   "execution_count": 11,
   "id": "639b7c04-cdc2-4158-968e-09943649156d",
   "metadata": {
    "tags": []
   },
   "outputs": [],
   "source": [
    "# add function args to the messages\n",
    "if tool_calls := messages[-1].get(\"tool_calls\", None):\n",
    "    for tool_call in tool_calls:\n",
    "        if fn_call := tool_call.get(\"function\"):\n",
    "            fn_name: str = fn_call[\"name\"]\n",
    "            fn_args: dict = fn_call[\"arguments\"]\n",
    "\n",
    "            fn_res: str = json.dumps(get_function_by_name(fn_name)(**fn_args))\n",
    "\n",
    "            messages.append({\n",
    "                \"role\": \"tool\",\n",
    "                \"name\": fn_name,\n",
    "                \"content\": fn_res,\n",
    "            })"
   ]
  },
  {
   "cell_type": "code",
   "execution_count": 12,
   "id": "8e3f02f3-7793-42b1-8b2d-500cb2881f43",
   "metadata": {
    "tags": []
   },
   "outputs": [
    {
     "name": "stdout",
     "output_type": "stream",
     "text": [
      "[{'content': 'You are Qwen, created by Alibaba Cloud. You are a helpful '\n",
      "             'assistant.\\n'\n",
      "             '\\n'\n",
      "             'Current Date: 2024-09-30',\n",
      "  'role': 'system'},\n",
      " {'content': \"What's the temperature in San Francisco now? How about tomorrow?\",\n",
      "  'role': 'user'},\n",
      " {'content': '',\n",
      "  'role': 'assistant',\n",
      "  'tool_calls': [{'function': {'arguments': {'location': 'San Francisco, CA, '\n",
      "                                                         'USA'},\n",
      "                               'name': 'get_current_temperature'},\n",
      "                  'type': 'function'},\n",
      "                 {'function': {'arguments': {'date': '2024-10-01',\n",
      "                                             'location': 'San Francisco, CA, '\n",
      "                                                         'USA'},\n",
      "                               'name': 'get_temperature_date'},\n",
      "                  'type': 'function'}]},\n",
      " {'content': '{\"temperature\": 26.1, \"location\": \"San Francisco, CA, USA\", '\n",
      "             '\"unit\": \"celsius\"}',\n",
      "  'name': 'get_current_temperature',\n",
      "  'role': 'tool'},\n",
      " {'content': '{\"temperature\": 25.9, \"location\": \"San Francisco, CA, USA\", '\n",
      "             '\"date\": \"2024-10-01\", \"unit\": \"celsius\"}',\n",
      "  'name': 'get_temperature_date',\n",
      "  'role': 'tool'}]\n"
     ]
    }
   ],
   "source": [
    "pprint(messages)\n",
    "# note that tools won't be shown in message because it will be appended to the system prompt during apply_chat_template"
   ]
  },
  {
   "cell_type": "code",
   "execution_count": 13,
   "id": "bee55b89-b732-43c7-a197-f232f2173f46",
   "metadata": {
    "tags": []
   },
   "outputs": [
    {
     "name": "stdout",
     "output_type": "stream",
     "text": [
      "<|im_start|>system\n",
      "You are Qwen, created by Alibaba Cloud. You are a helpful assistant.\n",
      "\n",
      "Current Date: 2024-09-30\n",
      "\n",
      "# Tools\n",
      "\n",
      "You may call one or more functions to assist with the user query.\n",
      "\n",
      "You are provided with function signatures within <tools></tools> XML tags:\n",
      "<tools>\n",
      "{\"type\": \"function\", \"function\": {\"name\": \"get_current_temperature\", \"description\": \"Get current temperature at a location.\", \"parameters\": {\"type\": \"object\", \"properties\": {\"location\": {\"type\": \"string\", \"description\": \"The location to get the temperature for, in the format \\\"City, State, Country\\\".\"}, \"unit\": {\"type\": \"string\", \"enum\": [\"celsius\", \"fahrenheit\"], \"description\": \"The unit to return the temperature in. Defaults to \\\"celsius\\\".\"}}, \"required\": [\"location\"]}}}\n",
      "{\"type\": \"function\", \"function\": {\"name\": \"get_temperature_date\", \"description\": \"Get temperature at a location and date.\", \"parameters\": {\"type\": \"object\", \"properties\": {\"location\": {\"type\": \"string\", \"description\": \"The location to get the temperature for, in the format \\\"City, State, Country\\\".\"}, \"date\": {\"type\": \"string\", \"description\": \"The date to get the temperature for, in the format \\\"Year-Month-Day\\\".\"}, \"unit\": {\"type\": \"string\", \"enum\": [\"celsius\", \"fahrenheit\"], \"description\": \"The unit to return the temperature in. Defaults to \\\"celsius\\\".\"}}, \"required\": [\"location\", \"date\"]}}}\n",
      "</tools>\n",
      "\n",
      "For each function call, return a json object with function name and arguments within <tool_call></tool_call> XML tags:\n",
      "<tool_call>\n",
      "{\"name\": <function-name>, \"arguments\": <args-json-object>}\n",
      "</tool_call><|im_end|>\n",
      "<|im_start|>user\n",
      "What's the temperature in San Francisco now? How about tomorrow?<|im_end|>\n",
      "<|im_start|>assistant\n",
      "<tool_call>\n",
      "{\"name\": \"get_current_temperature\", \"arguments\": {\"location\": \"San Francisco, CA, USA\"}}\n",
      "</tool_call>\n",
      "<tool_call>\n",
      "{\"name\": \"get_temperature_date\", \"arguments\": {\"location\": \"San Francisco, CA, USA\", \"date\": \"2024-10-01\"}}\n",
      "</tool_call><|im_end|>\n",
      "<|im_start|>user\n",
      "<tool_response>\n",
      "{\"temperature\": 26.1, \"location\": \"San Francisco, CA, USA\", \"unit\": \"celsius\"}\n",
      "</tool_response>\n",
      "<tool_response>\n",
      "{\"temperature\": 25.9, \"location\": \"San Francisco, CA, USA\", \"date\": \"2024-10-01\", \"unit\": \"celsius\"}\n",
      "</tool_response><|im_end|>\n",
      "<|im_start|>assistant\n",
      "\n"
     ]
    }
   ],
   "source": [
    "# final response\n",
    "text = tokenizer.apply_chat_template(messages, tools=tools, add_generation_prompt=True, tokenize=False)\n",
    "inputs = tokenizer(text, return_tensors=\"pt\").to(model.device)\n",
    "print(text)"
   ]
  },
  {
   "cell_type": "code",
   "execution_count": 14,
   "id": "8d3c1685-5206-4eb7-9d8e-c4e91e40e2a9",
   "metadata": {
    "tags": []
   },
   "outputs": [],
   "source": [
    "outputs = model.generate(**inputs, max_new_tokens=512)\n",
    "output_text = tokenizer.batch_decode(outputs)[0][len(text):]"
   ]
  },
  {
   "cell_type": "code",
   "execution_count": 15,
   "id": "96cc37e7-4fd1-45a6-8443-edfa36ceeff9",
   "metadata": {
    "tags": []
   },
   "outputs": [
    {
     "name": "stdout",
     "output_type": "stream",
     "text": [
      "Currently, the temperature in San Francisco is approximately 26.1°C. Tomorrow, on October 1, 2024, the temperature is expected to be around 25.9°C.<|im_end|>\n"
     ]
    }
   ],
   "source": [
    "print(output_text)"
   ]
  },
  {
   "cell_type": "code",
   "execution_count": 16,
   "id": "24748b89-96f3-4552-9477-7a9d85875da3",
   "metadata": {
    "tags": []
   },
   "outputs": [],
   "source": [
    "messages.append(try_parse_tool_calls(output_text))"
   ]
  },
  {
   "cell_type": "code",
   "execution_count": 17,
   "id": "f047f6e5-f4f2-4059-ba61-50aeef8a11f1",
   "metadata": {
    "tags": []
   },
   "outputs": [
    {
     "name": "stdout",
     "output_type": "stream",
     "text": [
      "[{'content': 'You are Qwen, created by Alibaba Cloud. You are a helpful '\n",
      "             'assistant.\\n'\n",
      "             '\\n'\n",
      "             'Current Date: 2024-09-30',\n",
      "  'role': 'system'},\n",
      " {'content': \"What's the temperature in San Francisco now? How about tomorrow?\",\n",
      "  'role': 'user'},\n",
      " {'content': '',\n",
      "  'role': 'assistant',\n",
      "  'tool_calls': [{'function': {'arguments': {'location': 'San Francisco, CA, '\n",
      "                                                         'USA'},\n",
      "                               'name': 'get_current_temperature'},\n",
      "                  'type': 'function'},\n",
      "                 {'function': {'arguments': {'date': '2024-10-01',\n",
      "                                             'location': 'San Francisco, CA, '\n",
      "                                                         'USA'},\n",
      "                               'name': 'get_temperature_date'},\n",
      "                  'type': 'function'}]},\n",
      " {'content': '{\"temperature\": 26.1, \"location\": \"San Francisco, CA, USA\", '\n",
      "             '\"unit\": \"celsius\"}',\n",
      "  'name': 'get_current_temperature',\n",
      "  'role': 'tool'},\n",
      " {'content': '{\"temperature\": 25.9, \"location\": \"San Francisco, CA, USA\", '\n",
      "             '\"date\": \"2024-10-01\", \"unit\": \"celsius\"}',\n",
      "  'name': 'get_temperature_date',\n",
      "  'role': 'tool'},\n",
      " {'content': 'Currently, the temperature in San Francisco is approximately '\n",
      "             '26.1°C. Tomorrow, on October 1, 2024, the temperature is '\n",
      "             'expected to be around 25.9°C.',\n",
      "  'role': 'assistant'}]\n"
     ]
    }
   ],
   "source": [
    "pprint(messages)"
   ]
  },
  {
   "cell_type": "markdown",
   "id": "f1d6b8b3-605a-49c3-824e-fc827ba03813",
   "metadata": {},
   "source": [
    "## Use vLLM"
   ]
  },
  {
   "cell_type": "code",
   "execution_count": 18,
   "id": "6506c3a4-c2ff-4e75-be99-eb2fd85854fc",
   "metadata": {
    "tags": []
   },
   "outputs": [],
   "source": [
    "tools = TOOLS\n",
    "messages = MESSAGES[:]"
   ]
  },
  {
   "cell_type": "code",
   "execution_count": 19,
   "id": "982ee6c9-a4bb-406b-9958-24dd0a8628fa",
   "metadata": {
    "tags": []
   },
   "outputs": [],
   "source": [
    "from openai import OpenAI\n",
    "\n",
    "openai_api_key = \"EMPTY\"\n",
    "openai_api_base = \"http://localhost:8000/v1\"\n",
    "\n",
    "client = OpenAI(\n",
    "    api_key=openai_api_key,\n",
    "    base_url=openai_api_base,\n",
    ")\n",
    "\n",
    "model_name = \"Qwen/Qwen2.5-7B-Instruct\""
   ]
  },
  {
   "cell_type": "code",
   "execution_count": 20,
   "id": "bdf62d31-354e-42bc-b119-192e76a83182",
   "metadata": {
    "tags": []
   },
   "outputs": [],
   "source": [
    "response = client.chat.completions.create(\n",
    "    model=model_name,\n",
    "    messages=messages,\n",
    "    tools=tools,\n",
    "    temperature=0.7,\n",
    "    top_p=0.8,\n",
    "    max_tokens=512,\n",
    "    extra_body={\n",
    "        \"repetition_penalty\": 1.05,\n",
    "    },\n",
    ")"
   ]
  },
  {
   "cell_type": "code",
   "execution_count": 22,
   "id": "db645af6-4698-4fe9-a26b-9623eb6f1c33",
   "metadata": {
    "tags": []
   },
   "outputs": [
    {
     "name": "stdout",
     "output_type": "stream",
     "text": [
      "ChatCompletion(id='chatcmpl-149b787438884e918867c88e34e534b1', choices=[Choice(finish_reason='tool_calls', index=0, logprobs=None, message=ChatCompletionMessage(content=None, refusal=None, role='assistant', annotations=None, audio=None, function_call=None, tool_calls=[ChatCompletionMessageToolCall(id='chatcmpl-tool-7dd3c0f8f6024df9bc1981236b0be109', function=Function(arguments='{\"location\": \"San Francisco, CA, USA\"}', name='get_current_temperature'), type='function'), ChatCompletionMessageToolCall(id='chatcmpl-tool-943de79f68014d7d9fe36a66c7071642', function=Function(arguments='{\"location\": \"San Francisco, CA, USA\", \"date\": \"2024-10-01\"}', name='get_temperature_date'), type='function')], reasoning_content=None), stop_reason=None)], created=1748417080, model='Qwen/Qwen2.5-7B-Instruct', object='chat.completion', service_tier=None, system_fingerprint=None, usage=CompletionUsage(completion_tokens=67, prompt_tokens=412, total_tokens=479, completion_tokens_details=None, prompt_tokens_details=None), prompt_logprobs=None)\n"
     ]
    }
   ],
   "source": [
    "pprint(response)"
   ]
  },
  {
   "cell_type": "code",
   "execution_count": 23,
   "id": "ad9a4962-ed02-4a87-bd66-2fa24db12e87",
   "metadata": {
    "tags": []
   },
   "outputs": [],
   "source": [
    "messages.append(response.choices[0].message.model_dump())\n",
    "\n",
    "if tool_calls := messages[-1].get(\"tool_calls\", None):\n",
    "    for tool_call in tool_calls:\n",
    "        call_id: str = tool_call[\"id\"]\n",
    "        if fn_call := tool_call.get(\"function\"):\n",
    "            fn_name: str = fn_call[\"name\"]\n",
    "            fn_args: dict = json.loads(fn_call[\"arguments\"])\n",
    "        \n",
    "            fn_res: str = json.dumps(get_function_by_name(fn_name)(**fn_args))\n",
    "\n",
    "            messages.append({\n",
    "                \"role\": \"tool\",\n",
    "                \"content\": fn_res,\n",
    "                \"tool_call_id\": call_id,\n",
    "            })"
   ]
  },
  {
   "cell_type": "code",
   "execution_count": 25,
   "id": "2e753bfd-83d0-4999-b24f-6ef93dddfbbe",
   "metadata": {
    "tags": []
   },
   "outputs": [
    {
     "name": "stdout",
     "output_type": "stream",
     "text": [
      "[{'content': 'You are Qwen, created by Alibaba Cloud. You are a helpful '\n",
      "             'assistant.\\n'\n",
      "             '\\n'\n",
      "             'Current Date: 2024-09-30',\n",
      "  'role': 'system'},\n",
      " {'content': \"What's the temperature in San Francisco now? How about tomorrow?\",\n",
      "  'role': 'user'},\n",
      " {'annotations': None,\n",
      "  'audio': None,\n",
      "  'content': None,\n",
      "  'function_call': None,\n",
      "  'reasoning_content': None,\n",
      "  'refusal': None,\n",
      "  'role': 'assistant',\n",
      "  'tool_calls': [{'function': {'arguments': '{\"location\": \"San Francisco, CA, '\n",
      "                                            'USA\"}',\n",
      "                               'name': 'get_current_temperature'},\n",
      "                  'id': 'chatcmpl-tool-7dd3c0f8f6024df9bc1981236b0be109',\n",
      "                  'type': 'function'},\n",
      "                 {'function': {'arguments': '{\"location\": \"San Francisco, CA, '\n",
      "                                            'USA\", \"date\": \"2024-10-01\"}',\n",
      "                               'name': 'get_temperature_date'},\n",
      "                  'id': 'chatcmpl-tool-943de79f68014d7d9fe36a66c7071642',\n",
      "                  'type': 'function'}]},\n",
      " {'content': '{\"temperature\": 26.1, \"location\": \"San Francisco, CA, USA\", '\n",
      "             '\"unit\": \"celsius\"}',\n",
      "  'role': 'tool',\n",
      "  'tool_call_id': 'chatcmpl-tool-7dd3c0f8f6024df9bc1981236b0be109'},\n",
      " {'content': '{\"temperature\": 25.9, \"location\": \"San Francisco, CA, USA\", '\n",
      "             '\"date\": \"2024-10-01\", \"unit\": \"celsius\"}',\n",
      "  'role': 'tool',\n",
      "  'tool_call_id': 'chatcmpl-tool-943de79f68014d7d9fe36a66c7071642'}]\n"
     ]
    }
   ],
   "source": [
    "pprint(messages)"
   ]
  },
  {
   "cell_type": "code",
   "execution_count": 26,
   "id": "5df2adf5-3b0c-47bb-a5bc-71e3aacd5152",
   "metadata": {
    "tags": []
   },
   "outputs": [],
   "source": [
    "response = client.chat.completions.create(\n",
    "    model=model_name,\n",
    "    messages=messages,\n",
    "    tools=tools,\n",
    "    temperature=0.7,\n",
    "    top_p=0.8,\n",
    "    max_tokens=512,\n",
    "    extra_body={\n",
    "        \"repetition_penalty\": 1.05,\n",
    "    },\n",
    ")\n",
    "\n",
    "messages.append(response.choices[0].message.model_dump())"
   ]
  },
  {
   "cell_type": "code",
   "execution_count": 27,
   "id": "2a5e5e3e-6e50-4e3b-bd04-5e0ea77a19c5",
   "metadata": {
    "tags": []
   },
   "outputs": [
    {
     "name": "stdout",
     "output_type": "stream",
     "text": [
      "[{'content': 'You are Qwen, created by Alibaba Cloud. You are a helpful '\n",
      "             'assistant.\\n'\n",
      "             '\\n'\n",
      "             'Current Date: 2024-09-30',\n",
      "  'role': 'system'},\n",
      " {'content': \"What's the temperature in San Francisco now? How about tomorrow?\",\n",
      "  'role': 'user'},\n",
      " {'annotations': None,\n",
      "  'audio': None,\n",
      "  'content': None,\n",
      "  'function_call': None,\n",
      "  'reasoning_content': None,\n",
      "  'refusal': None,\n",
      "  'role': 'assistant',\n",
      "  'tool_calls': [{'function': {'arguments': '{\"location\": \"San Francisco, CA, '\n",
      "                                            'USA\"}',\n",
      "                               'name': 'get_current_temperature'},\n",
      "                  'id': 'chatcmpl-tool-7dd3c0f8f6024df9bc1981236b0be109',\n",
      "                  'type': 'function'},\n",
      "                 {'function': {'arguments': '{\"location\": \"San Francisco, CA, '\n",
      "                                            'USA\", \"date\": \"2024-10-01\"}',\n",
      "                               'name': 'get_temperature_date'},\n",
      "                  'id': 'chatcmpl-tool-943de79f68014d7d9fe36a66c7071642',\n",
      "                  'type': 'function'}]},\n",
      " {'content': '{\"temperature\": 26.1, \"location\": \"San Francisco, CA, USA\", '\n",
      "             '\"unit\": \"celsius\"}',\n",
      "  'role': 'tool',\n",
      "  'tool_call_id': 'chatcmpl-tool-7dd3c0f8f6024df9bc1981236b0be109'},\n",
      " {'content': '{\"temperature\": 25.9, \"location\": \"San Francisco, CA, USA\", '\n",
      "             '\"date\": \"2024-10-01\", \"unit\": \"celsius\"}',\n",
      "  'role': 'tool',\n",
      "  'tool_call_id': 'chatcmpl-tool-943de79f68014d7d9fe36a66c7071642'},\n",
      " {'annotations': None,\n",
      "  'audio': None,\n",
      "  'content': 'Currently, the temperature in San Francisco is approximately '\n",
      "             '26.1°C. Tomorrow, on October 1st, 2024, the expected temperature '\n",
      "             'will be around 25.9°C.',\n",
      "  'function_call': None,\n",
      "  'reasoning_content': None,\n",
      "  'refusal': None,\n",
      "  'role': 'assistant',\n",
      "  'tool_calls': []}]\n"
     ]
    }
   ],
   "source": [
    "pprint(messages)"
   ]
  },
  {
   "cell_type": "code",
   "execution_count": null,
   "id": "e423bfbc-0636-4e6a-bc6d-b47442da1a29",
   "metadata": {},
   "outputs": [],
   "source": []
  }
 ],
 "metadata": {
  "kernelspec": {
   "display_name": "Python 3 (ipykernel)",
   "language": "python",
   "name": "python3"
  },
  "language_info": {
   "codemirror_mode": {
    "name": "ipython",
    "version": 3
   },
   "file_extension": ".py",
   "mimetype": "text/x-python",
   "name": "python",
   "nbconvert_exporter": "python",
   "pygments_lexer": "ipython3",
   "version": "3.10.12"
  }
 },
 "nbformat": 4,
 "nbformat_minor": 5
}
